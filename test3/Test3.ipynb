{
 "cells": [
  {
   "cell_type": "code",
   "execution_count": 1,
   "id": "5df929d7-c12d-478e-a7f9-20d2665451e7",
   "metadata": {},
   "outputs": [
    {
     "ename": "ModuleNotFoundError",
     "evalue": "No module named 'nbparameterise'",
     "output_type": "error",
     "traceback": [
      "\u001b[0;31m---------------------------------------------------------------------------\u001b[0m",
      "\u001b[0;31mModuleNotFoundError\u001b[0m                       Traceback (most recent call last)",
      "\u001b[0;32m/tmp/ipykernel_67224/877267039.py\u001b[0m in \u001b[0;36m<module>\u001b[0;34m\u001b[0m\n\u001b[1;32m      1\u001b[0m \u001b[0;32mimport\u001b[0m \u001b[0mnbclient\u001b[0m\u001b[0;34m\u001b[0m\u001b[0;34m\u001b[0m\u001b[0m\n\u001b[1;32m      2\u001b[0m \u001b[0;32mimport\u001b[0m \u001b[0mnbformat\u001b[0m\u001b[0;34m\u001b[0m\u001b[0;34m\u001b[0m\u001b[0m\n\u001b[0;32m----> 3\u001b[0;31m from nbparameterise import (\n\u001b[0m\u001b[1;32m      4\u001b[0m     \u001b[0mextract_parameters\u001b[0m\u001b[0;34m,\u001b[0m \u001b[0mreplace_definitions\u001b[0m\u001b[0;34m,\u001b[0m \u001b[0mparameter_values\u001b[0m\u001b[0;34m\u001b[0m\u001b[0;34m\u001b[0m\u001b[0m\n\u001b[1;32m      5\u001b[0m )\n",
      "\u001b[0;31mModuleNotFoundError\u001b[0m: No module named 'nbparameterise'"
     ]
    }
   ],
   "source": [
    "import nbclient\n",
    "import nbformat\n",
    "from nbparameterise import (\n",
    "    extract_parameters, replace_definitions, parameter_values\n",
    ")"
   ]
  },
  {
   "cell_type": "markdown",
   "id": "71df9eab-a7ca-4678-8dbc-06b0e8470876",
   "metadata": {},
   "source": [
    "https://github.com/takluyver/nbparameterise"
   ]
  }
 ],
 "metadata": {
  "kernelspec": {
   "display_name": "Python 3 (ipykernel)",
   "language": "python",
   "name": "python3"
  },
  "language_info": {
   "codemirror_mode": {
    "name": "ipython",
    "version": 3
   },
   "file_extension": ".py",
   "mimetype": "text/x-python",
   "name": "python",
   "nbconvert_exporter": "python",
   "pygments_lexer": "ipython3",
   "version": "3.7.10"
  }
 },
 "nbformat": 4,
 "nbformat_minor": 5
}
