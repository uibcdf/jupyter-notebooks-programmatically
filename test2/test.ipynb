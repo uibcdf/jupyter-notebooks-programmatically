{
 "cells": [
  {
   "cell_type": "markdown",
   "id": "1355b378",
   "metadata": {},
   "source": [
    "# Template"
   ]
  },
  {
   "cell_type": "markdown",
   "id": "40b7167b",
   "metadata": {},
   "source": [
    "This is the template to create other notebooks"
   ]
  },
  {
   "cell_type": "code",
   "execution_count": 1,
   "id": "15e212a9",
   "metadata": {},
   "outputs": [
    {
     "name": "stdout",
     "output_type": "stream",
     "text": [
      "5\n"
     ]
    }
   ],
   "source": [
    "a=2\n",
    "b=3\n",
    "print(a+b)"
   ]
  },
  {
   "cell_type": "markdown",
   "id": "dffe6d12",
   "metadata": {},
   "source": [
    "This is just a final comment."
   ]
  }
 ],
 "metadata": {
  "kernelspec": {
   "display_name": "Python 3 (ipykernel)",
   "language": "python",
   "name": "python3"
  },
  "language_info": {
   "codemirror_mode": {
    "name": "ipython",
    "version": 3
   },
   "file_extension": ".py",
   "mimetype": "text/x-python",
   "name": "python",
   "nbconvert_exporter": "python",
   "pygments_lexer": "ipython3",
   "version": "3.7.10"
  }
 },
 "nbformat": 4,
 "nbformat_minor": 5
}
