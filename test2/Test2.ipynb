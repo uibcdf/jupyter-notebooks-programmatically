{
 "cells": [
  {
   "cell_type": "markdown",
   "id": "c7f9bfdd-a478-49ae-9c54-c4da67757a12",
   "metadata": {},
   "source": [
    "# Test2"
   ]
  },
  {
   "cell_type": "code",
   "execution_count": 1,
   "id": "5431964d-5b8a-48b6-90fb-4393e4bb3d90",
   "metadata": {},
   "outputs": [],
   "source": [
    "import json"
   ]
  },
  {
   "cell_type": "code",
   "execution_count": 2,
   "id": "af7c7efc-5314-4791-bf63-e280a1e76d9a",
   "metadata": {},
   "outputs": [],
   "source": [
    "# Read in Jupyter notebook template file\n",
    "with open(file='template.ipynb', mode='r', encoding='utf-8') as file:\n",
    "    ipynb = json.load(file)"
   ]
  },
  {
   "cell_type": "code",
   "execution_count": 3,
   "id": "16739148-ef48-4187-a110-640ffcd5749c",
   "metadata": {},
   "outputs": [
    {
     "data": {
      "text/plain": [
       "{'cells': [{'cell_type': 'markdown',\n",
       "   'id': '17c9208c-d412-4c60-9c85-a243ee525b7c',\n",
       "   'metadata': {},\n",
       "   'source': ['# Template']},\n",
       "  {'cell_type': 'markdown',\n",
       "   'id': 'f7466c82-4888-4399-b052-33bff357441f',\n",
       "   'metadata': {},\n",
       "   'source': ['This is the template to create other notebooks']},\n",
       "  {'cell_type': 'code',\n",
       "   'execution_count': 1,\n",
       "   'id': 'd5f05a91-072f-4f30-80de-564c84715b0e',\n",
       "   'metadata': {},\n",
       "   'outputs': [{'name': 'stdout', 'output_type': 'stream', 'text': ['5\\n']}],\n",
       "   'source': ['a=2\\n', 'b=3\\n', 'print(a+b)']},\n",
       "  {'cell_type': 'markdown',\n",
       "   'id': '87883f31-ea9b-40de-ba46-1b39fcfa7c8a',\n",
       "   'metadata': {},\n",
       "   'source': ['This is just a final comment.']}],\n",
       " 'metadata': {'kernelspec': {'display_name': 'Python 3 (ipykernel)',\n",
       "   'language': 'python',\n",
       "   'name': 'python3'},\n",
       "  'language_info': {'codemirror_mode': {'name': 'ipython', 'version': 3},\n",
       "   'file_extension': '.py',\n",
       "   'mimetype': 'text/x-python',\n",
       "   'name': 'python',\n",
       "   'nbconvert_exporter': 'python',\n",
       "   'pygments_lexer': 'ipython3',\n",
       "   'version': '3.7.10'}},\n",
       " 'nbformat': 4,\n",
       " 'nbformat_minor': 5}"
      ]
     },
     "execution_count": 3,
     "metadata": {},
     "output_type": "execute_result"
    }
   ],
   "source": [
    "ipynb"
   ]
  },
  {
   "cell_type": "code",
   "execution_count": 4,
   "id": "1362cf27-85d0-4308-b517-de224da8542d",
   "metadata": {},
   "outputs": [],
   "source": [
    "nb_cells_content = []"
   ]
  },
  {
   "cell_type": "code",
   "execution_count": 5,
   "id": "502b1442-1c45-4693-ad23-92646926f004",
   "metadata": {},
   "outputs": [],
   "source": [
    "for cell in ipynb['cells']:\n",
    "    cell_type = cell['cell_type']\n",
    "    source = cell['source']\n",
    "    old_metadata = cell['metadata']\n",
    "    metadata = {}\n",
    "    if 'tags' in old_metadata:\n",
    "        tags = old_metadata['tags']\n",
    "        if tags:\n",
    "            metadata['tags'] = tags\n",
    "    nb_cells_content.append([cell_type, source, metadata])"
   ]
  },
  {
   "cell_type": "code",
   "execution_count": 6,
   "id": "ebb4931a-1e1f-4a2f-87aa-122b8352e69a",
   "metadata": {},
   "outputs": [
    {
     "data": {
      "text/plain": [
       "['markdown', ['# Template'], {}]"
      ]
     },
     "execution_count": 6,
     "metadata": {},
     "output_type": "execute_result"
    }
   ],
   "source": [
    "nb_cells_content[0]"
   ]
  },
  {
   "cell_type": "code",
   "execution_count": 7,
   "id": "d6bf955c-eb64-476f-b554-d1ba1137bc43",
   "metadata": {},
   "outputs": [
    {
     "data": {
      "text/plain": [
       "['markdown', ['This is the template to create other notebooks'], {}]"
      ]
     },
     "execution_count": 7,
     "metadata": {},
     "output_type": "execute_result"
    }
   ],
   "source": [
    "nb_cells_content[1]"
   ]
  },
  {
   "cell_type": "code",
   "execution_count": 8,
   "id": "83303c75-c47b-4f1f-aa01-a74a26884e5b",
   "metadata": {},
   "outputs": [
    {
     "data": {
      "text/plain": [
       "['code', ['a=2\\n', 'b=3\\n', 'print(a+b)'], {}]"
      ]
     },
     "execution_count": 8,
     "metadata": {},
     "output_type": "execute_result"
    }
   ],
   "source": [
    "nb_cells_content[2]"
   ]
  },
  {
   "cell_type": "code",
   "execution_count": 9,
   "id": "1ff9c36b-0e53-4bf6-a3c8-66085c1c1e23",
   "metadata": {},
   "outputs": [
    {
     "data": {
      "text/plain": [
       "['markdown', ['This is just a final comment.'], {}]"
      ]
     },
     "execution_count": 9,
     "metadata": {},
     "output_type": "execute_result"
    }
   ],
   "source": [
    "nb_cells_content[3]"
   ]
  },
  {
   "cell_type": "code",
   "execution_count": 10,
   "id": "31c72456-7fa4-4e52-9e96-0bf22efc3197",
   "metadata": {},
   "outputs": [],
   "source": [
    "import nbformat as nbf"
   ]
  },
  {
   "cell_type": "code",
   "execution_count": 11,
   "id": "f8a49a74-cd8d-4333-88ec-f52f12d1fee8",
   "metadata": {},
   "outputs": [],
   "source": [
    "nb = nbf.v4.new_notebook()"
   ]
  },
  {
   "cell_type": "code",
   "execution_count": 12,
   "id": "8d910f3a-5b74-4a2f-a11b-fe3a5fa75ddc",
   "metadata": {},
   "outputs": [
    {
     "data": {
      "text/plain": [
       "{'nbformat': 4, 'nbformat_minor': 5, 'metadata': {}, 'cells': []}"
      ]
     },
     "execution_count": 12,
     "metadata": {},
     "output_type": "execute_result"
    }
   ],
   "source": [
    "nb"
   ]
  },
  {
   "cell_type": "code",
   "execution_count": 13,
   "id": "df8e7584-9929-4cac-b6a5-293efe3829e2",
   "metadata": {},
   "outputs": [],
   "source": [
    "for content in nb_cells_content:\n",
    "    if content[0]=='markdown':\n",
    "        cell=nbf.v4.new_markdown_cell(source=content[1], metadata=content[2])\n",
    "    elif content[0]=='code':\n",
    "        cell=nbf.v4.new_code_cell(source=content[1], metadata=content[2])\n",
    "    nb['cells'].append(cell)"
   ]
  },
  {
   "cell_type": "code",
   "execution_count": 14,
   "id": "cba8153a-7be0-47e0-85bf-833d8c3db1ad",
   "metadata": {},
   "outputs": [
    {
     "data": {
      "text/plain": [
       "{'nbformat': 4,\n",
       " 'nbformat_minor': 5,\n",
       " 'metadata': {},\n",
       " 'cells': [{'id': '1355b378',\n",
       "   'cell_type': 'markdown',\n",
       "   'source': ['# Template'],\n",
       "   'metadata': {}},\n",
       "  {'id': '40b7167b',\n",
       "   'cell_type': 'markdown',\n",
       "   'source': ['This is the template to create other notebooks'],\n",
       "   'metadata': {}},\n",
       "  {'id': '15e212a9',\n",
       "   'cell_type': 'code',\n",
       "   'metadata': {},\n",
       "   'execution_count': None,\n",
       "   'source': ['a=2\\n', 'b=3\\n', 'print(a+b)'],\n",
       "   'outputs': []},\n",
       "  {'id': 'dffe6d12',\n",
       "   'cell_type': 'markdown',\n",
       "   'source': ['This is just a final comment.'],\n",
       "   'metadata': {}}]}"
      ]
     },
     "execution_count": 14,
     "metadata": {},
     "output_type": "execute_result"
    }
   ],
   "source": [
    "nb"
   ]
  },
  {
   "cell_type": "code",
   "execution_count": 15,
   "id": "a702026e-8683-4fdf-a950-d93be993f156",
   "metadata": {},
   "outputs": [],
   "source": [
    "fname = 'test.ipynb'\n",
    "\n",
    "with open(fname, 'w') as f:\n",
    "    nbf.write(nb, f)"
   ]
  }
 ],
 "metadata": {
  "kernelspec": {
   "display_name": "Python 3 (ipykernel)",
   "language": "python",
   "name": "python3"
  },
  "language_info": {
   "codemirror_mode": {
    "name": "ipython",
    "version": 3
   },
   "file_extension": ".py",
   "mimetype": "text/x-python",
   "name": "python",
   "nbconvert_exporter": "python",
   "pygments_lexer": "ipython3",
   "version": "3.7.10"
  }
 },
 "nbformat": 4,
 "nbformat_minor": 5
}
