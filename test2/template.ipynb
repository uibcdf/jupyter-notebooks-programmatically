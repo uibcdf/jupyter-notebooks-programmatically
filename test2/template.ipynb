{
 "cells": [
  {
   "cell_type": "markdown",
   "id": "17c9208c-d412-4c60-9c85-a243ee525b7c",
   "metadata": {},
   "source": [
    "# Template"
   ]
  },
  {
   "cell_type": "markdown",
   "id": "f7466c82-4888-4399-b052-33bff357441f",
   "metadata": {},
   "source": [
    "This is the template to create other notebooks"
   ]
  },
  {
   "cell_type": "code",
   "execution_count": 1,
   "id": "d5f05a91-072f-4f30-80de-564c84715b0e",
   "metadata": {},
   "outputs": [
    {
     "name": "stdout",
     "output_type": "stream",
     "text": [
      "5\n"
     ]
    }
   ],
   "source": [
    "a=2\n",
    "b=3\n",
    "print(a+b)"
   ]
  },
  {
   "cell_type": "markdown",
   "id": "87883f31-ea9b-40de-ba46-1b39fcfa7c8a",
   "metadata": {},
   "source": [
    "This is just a final comment."
   ]
  }
 ],
 "metadata": {
  "kernelspec": {
   "display_name": "Python 3 (ipykernel)",
   "language": "python",
   "name": "python3"
  },
  "language_info": {
   "codemirror_mode": {
    "name": "ipython",
    "version": 3
   },
   "file_extension": ".py",
   "mimetype": "text/x-python",
   "name": "python",
   "nbconvert_exporter": "python",
   "pygments_lexer": "ipython3",
   "version": "3.7.10"
  }
 },
 "nbformat": 4,
 "nbformat_minor": 5
}
