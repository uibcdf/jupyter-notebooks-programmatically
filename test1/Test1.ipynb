{
 "cells": [
  {
   "cell_type": "markdown",
   "id": "ee7a84d7-1c4c-46a4-ba6c-a31436798453",
   "metadata": {},
   "source": [
    "# Test 1"
   ]
  },
  {
   "cell_type": "code",
   "execution_count": 1,
   "id": "33b2cd78-cbfe-48d1-b2c0-cbd3c626a55b",
   "metadata": {},
   "outputs": [],
   "source": [
    "import nbformat as nbf\n",
    "\n",
    "nb = nbf.v4.new_notebook()\n",
    "\n",
    "text = \"\"\"\\\n",
    "# This is my first notebook.\"\"\"\n",
    "cell_title = nbf.v4.new_markdown_cell(text)\n",
    "\n",
    "web = \"https://gist.github.com/fperez/9716279\"\n",
    "text = f\"\"\"\\\n",
    "This text was created based on a [gist by Fernando Perez]({web}).\"\"\"\n",
    "cell_comment = nbf.v4.new_markdown_cell(text)\n",
    "\n",
    "code = \"\"\"\\\n",
    "%pylab inline\n",
    "hist(normal(size=2000), bins=50);\"\"\"\n",
    "cell_code = nbf.v4.new_code_cell(code)\n",
    "\n",
    "nb['cells'] = [cell_title,\n",
    "               cell_comment,\n",
    "               cell_code]\n",
    "\n",
    "fname = 'test.ipynb'\n",
    "\n",
    "with open(fname, 'w') as f:\n",
    "    nbf.write(nb, f)"
   ]
  },
  {
   "cell_type": "markdown",
   "id": "e048f4d8-93f6-430b-a5ac-99fe05a67777",
   "metadata": {},
   "source": [
    "This notebook can be run at the command line with:\n",
    "\n",
    "```bash\n",
    "jupyter nbconvert --execute --inplace test.ipynb\n",
    "```"
   ]
  },
  {
   "cell_type": "code",
   "execution_count": null,
   "id": "2e27f58e-524b-4129-9a7f-66759cdd9b8b",
   "metadata": {},
   "outputs": [],
   "source": []
  }
 ],
 "metadata": {
  "kernelspec": {
   "display_name": "Python 3 (ipykernel)",
   "language": "python",
   "name": "python3"
  },
  "language_info": {
   "codemirror_mode": {
    "name": "ipython",
    "version": 3
   },
   "file_extension": ".py",
   "mimetype": "text/x-python",
   "name": "python",
   "nbconvert_exporter": "python",
   "pygments_lexer": "ipython3",
   "version": "3.7.10"
  }
 },
 "nbformat": 4,
 "nbformat_minor": 5
}
