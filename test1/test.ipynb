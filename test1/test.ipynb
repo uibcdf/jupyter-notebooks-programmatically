{
 "cells": [
  {
   "cell_type": "markdown",
   "id": "0ce3c7b2",
   "metadata": {},
   "source": [
    "# This is my first notebook."
   ]
  },
  {
   "cell_type": "markdown",
   "id": "f813c0f1",
   "metadata": {},
   "source": [
    "This text was created based on a [gist by Fernando Perez](https://gist.github.com/fperez/9716279)."
   ]
  },
  {
   "cell_type": "code",
   "execution_count": null,
   "id": "87a46fb8",
   "metadata": {},
   "outputs": [],
   "source": [
    "%pylab inline\n",
    "hist(normal(size=2000), bins=50);"
   ]
  }
 ],
 "metadata": {
  "kernelspec": {
   "display_name": "Python 3 (ipykernel)",
   "language": "python",
   "name": "python3"
  },
  "language_info": {
   "codemirror_mode": {
    "name": "ipython",
    "version": 3
   },
   "file_extension": ".py",
   "mimetype": "text/x-python",
   "name": "python",
   "nbconvert_exporter": "python",
   "pygments_lexer": "ipython3",
   "version": "3.7.10"
  }
 },
 "nbformat": 4,
 "nbformat_minor": 5
}
